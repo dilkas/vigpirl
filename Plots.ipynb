{
 "cells": [
  {
   "cell_type": "code",
   "execution_count": 50,
   "metadata": {},
   "outputs": [],
   "source": [
    "var('B11', 'B22', 'B33', 'B21', 'B31', 'B32', 'u1', 'u2', 'u3', 'm1', 'm2', 'm3')\n",
    "\n",
    "u = vector([u1, u2, u3])\n",
    "m = vector([m1, m2, m3])\n",
    "B = matrix([[B11, 0, 0], [B21, B22, 0], [B31, B32, B33]])\n",
    "S = B * B.transpose()\n",
    "U = (u - m).outer_product(u - m)\n",
    "\n",
    "pdf = exp(-0.5 * ((u.row() - m.row()) * S.inverse() * (u - m))[0]) / (2 * pi)**(3/2.0) / S.determinant()**0.5\n",
    "substitutions1 = {B22 : 1, B33 : 1, B21 : 0, B31 : 0, B32 : 0, u1 : -4, u2 : -1, u3 : -4, m1 : -5, m2 : 0, m3 : 4}\n",
    "substitutions2 = {B11 : 1, B22 : 1, B33 : 1, B31 : 0, B32 : 0, u1 : -4, u2 : -1, u3 : -4, m1 : -5, m2 : 0, m3 : 4}\n",
    "interval = (0, 5)"
   ]
  },
  {
   "cell_type": "code",
   "execution_count": 51,
   "metadata": {},
   "outputs": [],
   "source": [
    "from matplotlib import rc\n",
    "rc('text', usetex=True)\n",
    "rc('text.latex', preamble=r'\\usepackage{bm}')"
   ]
  },
  {
   "cell_type": "code",
   "execution_count": 52,
   "metadata": {},
   "outputs": [],
   "source": [
    "grad1 = pdf.diff(B11).substitute(substitutions1)\n",
    "plot1 = sum([plot(pdf.substitute(substitutions1), interval, axes_labels=['$B_{1,1}$', ''], legend_label=r'$q(\\mathbf{u})=\\mathcal{N}(\\mathbf{u}; \\bm\\mu, \\bm\\Sigma)$'),\n",
    "plot(grad1, interval, color='red', legend_label=r'$\\partial q(\\mathbf{u})/\\partial B_{1,1}$')])"
   ]
  },
  {
   "cell_type": "code",
   "execution_count": 53,
   "metadata": {},
   "outputs": [],
   "source": [
    "grad1 = pdf.diff(B21).substitute(substitutions2)\n",
    "plot2 = sum([plot(pdf.substitute(substitutions2), interval, axes_labels=['$B_{2, 1}$', ''], legend_label=r'$q(\\mathbf{u})=\\mathcal{N}(\\mathbf{u}; \\bm\\mu, \\bm\\Sigma)$'),\n",
    "plot(grad1, interval, color='red', legend_label=r'$\\partial q(\\mathbf{u})/\\partial B_{2,1}$')])"
   ]
  },
  {
   "cell_type": "code",
   "execution_count": 48,
   "metadata": {},
   "outputs": [],
   "source": [
    "plot1.save('mpaper/sage1.pdf')\n",
    "plot2.save('mpaper/sage2.pdf')"
   ]
  },
  {
   "cell_type": "code",
   "execution_count": null,
   "metadata": {},
   "outputs": [],
   "source": []
  }
 ],
 "metadata": {
  "kernelspec": {
   "display_name": "SageMath 8.6",
   "language": "",
   "name": "sagemath"
  },
  "language_info": {
   "codemirror_mode": {
    "name": "ipython",
    "version": 2
   },
   "file_extension": ".py",
   "mimetype": "text/x-python",
   "name": "python",
   "nbconvert_exporter": "python",
   "pygments_lexer": "ipython2",
   "version": "2.7.16"
  }
 },
 "nbformat": 4,
 "nbformat_minor": 2
}
